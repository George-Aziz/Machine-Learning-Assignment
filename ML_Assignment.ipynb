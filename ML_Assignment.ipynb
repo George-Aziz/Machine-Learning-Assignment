{
  "cells": [
    {
      "cell_type": "markdown",
      "metadata": {
        "id": "9XEckIxXJE8g"
      },
      "source": [
        "# ML Assignment <br>\n",
        "* To ensure all the code in this notebook works without issues, please ensure all libraries are installed and to run the common code shared between the tasks.\n",
        "* To avoid issues while running each task, it is advisable to restart the runtime / kernel after each task\n",
        "\n",
        "* All PyTorch models have been retrieved from: https://pytorch.org/vision/0.8/models.html (Torchvision library)"
      ]
    },
    {
      "cell_type": "markdown",
      "metadata": {
        "id": "1av4Ogkzzc7O"
      },
      "source": [
        "#### Common Code Shared Between Tasks 1, 2 & 3\n",
        "* Please run all the blocks (Might not need the first block if all libraries are installed already) to be able to run this notebook without issues"
      ]
    },
    {
      "cell_type": "code",
      "execution_count": null,
      "metadata": {
        "id": "7q5U0LNXJTst"
      },
      "outputs": [],
      "source": [
        "#All necessary libraries that are not installed by default on google colab\n",
        "!pip install d2l==0.17.2\n",
        "!pip install skorch\n",
        "!pip install torchsummary"
      ]
    },
    {
      "cell_type": "code",
      "execution_count": null,
      "metadata": {
        "id": "ODOpPazJJE8j"
      },
      "outputs": [],
      "source": [
        "\"\"\" Every import required for this notebook for all tasks\"\"\"\n",
        "%matplotlib inline\n",
        "import torch\n",
        "import torchvision\n",
        "import torchvision.transforms as transforms\n",
        "from torch import nn\n",
        "from torchsummary import summary\n",
        "from d2l import torch as d2l\n",
        "import numpy\n",
        "from keras.datasets import cifar10\n",
        "from sklearn.neighbors import KNeighborsClassifier\n",
        "from sklearn.metrics import accuracy_score\n",
        "from sklearn.multiclass import OneVsOneClassifier\n",
        "from sklearn.svm import SVC\n",
        "import torch.nn.functional as F\n",
        "from sklearn.model_selection import train_test_split"
      ]
    },
    {
      "cell_type": "code",
      "execution_count": null,
      "metadata": {
        "colab": {
          "base_uri": "https://localhost:8080/",
          "height": 103,
          "referenced_widgets": [
            "88993ac2ea2a4954907219a1c2c7921b",
            "0dfb59b8605644f89d75dbb6eedb416b",
            "90a76b0054324da7a480822c91fc9f94",
            "40c8c1c1a5d540b6bca02b6601aa659e",
            "03153996542143d4a123076d9d8d2698",
            "66a6175a99484f9dae7234c4a98bc584",
            "b51349a7d91547d38a852c4f5731c8f5",
            "433845e2af8348c493f4bbaf1d169183",
            "f994c6c22e84478999ce267454edaeca",
            "92a5b1d3c5674b2e99f3533f1972e6fc",
            "2009a775953c435cb046c4388042f000"
          ]
        },
        "id": "tl2a7xXozc7Q",
        "outputId": "eaabab91-54c5-4928-fc6d-575222a2a0bc"
      },
      "outputs": [
        {
          "name": "stdout",
          "output_type": "stream",
          "text": [
            "Downloading https://www.cs.toronto.edu/~kriz/cifar-10-python.tar.gz to ./data/cifar-10-python.tar.gz\n"
          ]
        },
        {
          "data": {
            "application/vnd.jupyter.widget-view+json": {
              "model_id": "88993ac2ea2a4954907219a1c2c7921b",
              "version_major": 2,
              "version_minor": 0
            },
            "text/plain": [
              "  0%|          | 0/170498071 [00:00<?, ?it/s]"
            ]
          },
          "metadata": {},
          "output_type": "display_data"
        },
        {
          "name": "stdout",
          "output_type": "stream",
          "text": [
            "Extracting ./data/cifar-10-python.tar.gz to ./data\n",
            "Files already downloaded and verified\n"
          ]
        }
      ],
      "source": [
        "\"\"\" The following code is for data loading and setup has been retrieved from https://pytorch.org/tutorials/beginner/blitz/cifar10_tutorial.html\"\"\"\n",
        "device = torch.device('cuda') if torch.cuda.is_available() else torch.device('cpu')\n",
        "\n",
        "# Transformations have been retrived from https://pytorch.org/hub/pytorch_vision_resnet/ which applies to all of the models (AlexNet, ResNet & VGG)\n",
        "transformations = transforms.Compose([\n",
        "    transforms.Resize(256),\n",
        "    transforms.CenterCrop(224),\n",
        "    transforms.ToTensor(),\n",
        "    transforms.Normalize(mean=[0.485, 0.456, 0.406], std=[0.229, 0.224, 0.225])])\n",
        "\n",
        "# Data set for training and validation\n",
        "dataset = torchvision.datasets.CIFAR10(root='./data', train=True, download=True, transform=transformations)\n",
        "\n",
        "# Data split 80/20 for training/validation\n",
        "train_set, val_set = torch.utils.data.random_split(dataset, [40000, 10000])\n",
        "\n",
        "train_iter = torch.utils.data.DataLoader(train_set, batch_size=128, shuffle=True, num_workers=2)\n",
        "val_iter = torch.utils.data.DataLoader(val_set, batch_size=128, shuffle=True, num_workers=2)\n",
        "\n",
        "# Test Set loading\n",
        "test_set = torchvision.datasets.CIFAR10(root='./data', train=False, download=True, transform=transformations)\n",
        "test_iter = torch.utils.data.DataLoader(test_set, batch_size=128, shuffle=True, num_workers=2)"
      ]
    },
    {
      "cell_type": "code",
      "execution_count": null,
      "metadata": {
        "id": "LKulwM3izc7Q"
      },
      "outputs": [],
      "source": [
        "\"\"\"The following code has been retrived from https://d2l.ai/_modules/d2l/torch.html and has been slightly modified\"\"\"\n",
        "\n",
        "# The purpose of the following method is to train the model\n",
        "def train_ch13(net, train_iter, val_iter, test_iter, loss, trainer, num_epochs,\n",
        "               devices=d2l.try_all_gpus()):\n",
        "    \"\"\"Train a model with mutiple GPUs (defined in Chapter 13).\n",
        "\n",
        "    Defined in :numref:`sec_image_augmentation`\"\"\"\n",
        "    timer, num_batches = d2l.Timer(), len(train_iter)\n",
        "    animator = d2l.Animator(xlabel='epoch', xlim=[1, num_epochs], ylim=[0, 1],\n",
        "                            legend=['train loss', 'train acc', 'val acc', 'test acc'])\n",
        "    net = nn.DataParallel(net, device_ids=devices).to(devices[0]) #Sets up the network to work with the input data in parallel\n",
        "    for epoch in range(num_epochs): #Runs loop for amount of epochs\n",
        "        # Sum of training loss, sum of training accuracy, no. of examples,\n",
        "        # no. of predictions\n",
        "        metric = d2l.Accumulator(4)\n",
        "        for i, (features, labels) in enumerate(train_iter): #Loop to do training for each batch\n",
        "            timer.start()\n",
        "            l, acc = d2l.train_batch_ch13(\n",
        "                net, features, labels, loss, trainer, devices)\n",
        "            metric.add(l, acc, labels.shape[0], labels.numel())\n",
        "            timer.stop()\n",
        "            if (i + 1) % (num_batches // 5) == 0 or i == num_batches - 1:\n",
        "                animator.add(epoch + (i + 1) / num_batches,\n",
        "                             (metric[0] / metric[2], metric[1] / metric[3],\n",
        "                              None, None))\n",
        "        #Evaluate performance on Validation dataset first\n",
        "        val_acc = d2l.evaluate_accuracy_gpu(net, val_iter)\n",
        "        animator.add(epoch + 1, (None, None, val_acc, None))\n",
        "\n",
        "        #Evaluate performance on Test dataset after validation\n",
        "        test_acc = d2l.evaluate_accuracy_gpu(net, test_iter)\n",
        "        animator.add(epoch + 1, (None, None, None, test_acc))\n",
        "\n",
        "    #Final Output with final value of train, val & test accuracies as well as speed of training\n",
        "    print(f'loss {metric[0] / metric[2]:.3f}, train acc '\n",
        "          f'{metric[1] / metric[3]:.3f}, val acc {val_acc:.3f}, , test acc {test_acc:.3f}')\n",
        "    print(f'{metric[2] * num_epochs / timer.sum():.1f} examples/sec on '\n",
        "          f'{str(devices)}')\n",
        "\n",
        "# The purpose of the following method is to setup the training of the model with the optimizer and loss functions\n",
        "# Despite its name, it is used for training from scratch and also fine tuning depending on the final bool value\n",
        "def train_fine_tuning(netType, net, learning_rate, num_epochs=10, param_group=True):\n",
        "    \n",
        "    #Gets all available GPUs\n",
        "    devices = d2l.try_all_gpus()\n",
        "    criterion = nn.CrossEntropyLoss(reduction='mean') #Use cross entropy loss as this is a classification problem\n",
        "\n",
        "    #If statement for different type of architectures since VGG and AlexNet do not have a fc component\n",
        "    if netType == \"ResNet\": #ResNet\n",
        "        if param_group: # If true, then the learning rate is 10 times greater for final layer\n",
        "            params_1x = [param for name, param in net.named_parameters()\n",
        "                if name not in [\"fc.weight\", \"fc.bias\"]]\n",
        "            trainer = torch.optim.SGD([{'params': params_1x},\n",
        "                                    {'params': net.fc.parameters(),\n",
        "                                        'lr': learning_rate * 10}],\n",
        "                                    lr=learning_rate, weight_decay=0.001)\n",
        "        else: # Uses current parameters for the trainer\n",
        "            trainer = torch.optim.SGD(net.parameters(), lr=learning_rate,\n",
        "                                    weight_decay=0.001)\n",
        "    else: #VGG or AlexNet\n",
        "        if param_group: # If true, then the learning rate is 10 times greater for final layer\n",
        "            params_1x = [param for name, param in net.named_parameters()\n",
        "                if name not in [\"classifier.6.weight\", \"classifier.6.bias\"]]\n",
        "            trainer = torch.optim.SGD([{'params': params_1x},\n",
        "                                    {'params': net.classifier[6].parameters(),\n",
        "                                        'lr': learning_rate * 10}],\n",
        "                                    lr=learning_rate, weight_decay=0.001)\n",
        "        else: # Uses current parameters for the trainer\n",
        "            trainer = torch.optim.SGD(net.parameters(), lr=learning_rate,\n",
        "                                    weight_decay=0.001)\n",
        "    train_ch13(net, train_iter, val_iter, test_iter, criterion, trainer, num_epochs, devices)"
      ]
    },
    {
      "cell_type": "markdown",
      "metadata": {
        "id": "dvdDmp1kzc7S"
      },
      "source": [
        "## Task 1\n",
        "* ResNet-18 on CIFAR-10 (Fine-tune VS From scratch)"
      ]
    },
    {
      "cell_type": "code",
      "execution_count": null,
      "metadata": {
        "id": "RcenuGXIJE8k"
      },
      "outputs": [],
      "source": [
        "# Model Creation - Pretrained\n",
        "finetune_network = torchvision.models.resnet18(pretrained=True)\n",
        "finetune_network.fc = nn.Linear(finetune_network.fc.in_features, 10)\n",
        "nn.init.xavier_uniform_(finetune_network.fc.weight);\n",
        "\n",
        "\"\"\" Train Pretrained Model \"\"\"\n",
        "train_fine_tuning(\"ResNet\", finetune_network, learning_rate=4e-3, num_epochs=5, param_group=True)"
      ]
    },
    {
      "cell_type": "code",
      "execution_count": null,
      "metadata": {
        "id": "BXacs7OXJE8k"
      },
      "outputs": [],
      "source": [
        "# Model Creation - Scratch\n",
        "scratch_network = torchvision.models.resnet18(pretrained=False)\n",
        "scratch_network.fc = nn.Linear(scratch_network.fc.in_features, 10)\n",
        "nn.init.xavier_uniform_(scratch_network.fc.weight);\n",
        "\n",
        "\"\"\" Train Model From Scratch \"\"\"\n",
        "train_fine_tuning(\"ResNet\", scratch_network, learning_rate=3e-3, num_epochs=15, param_group=False)"
      ]
    },
    {
      "cell_type": "markdown",
      "metadata": {
        "id": "afmo8_0FJE8l"
      },
      "source": [
        "## Task 2\n"
      ]
    },
    {
      "cell_type": "markdown",
      "metadata": {
        "id": "OCgHnRgIzc7T"
      },
      "source": [
        "#### ResNet18 (Same models with learning rates from Task 1)"
      ]
    },
    {
      "cell_type": "code",
      "execution_count": null,
      "metadata": {
        "id": "gv1_luw0zc7T"
      },
      "outputs": [],
      "source": [
        "# Model Creation - Pretrained (Resnet18)\n",
        "finetune_network = torchvision.models.resnet18(pretrained=True)\n",
        "finetune_network.fc = nn.Linear(finetune_network.fc.in_features, 10)\n",
        "nn.init.xavier_uniform_(finetune_network.fc.weight);\n",
        "\n",
        "\"\"\" Train Pretrained Model \"\"\"\n",
        "train_fine_tuning(\"ResNet\", finetune_network, learning_rate=4e-3, num_epochs=5, param_group=True)"
      ]
    },
    {
      "cell_type": "code",
      "execution_count": null,
      "metadata": {
        "id": "va2z69D3zc7T"
      },
      "outputs": [],
      "source": [
        "# Model Creation - Scratch (Resnet18)\n",
        "scratch_network = torchvision.models.resnet18(pretrained=False)\n",
        "scratch_network.fc = nn.Linear(scratch_network.fc.in_features, 10)\n",
        "nn.init.xavier_uniform_(scratch_network.fc.weight);\n",
        "\n",
        "\"\"\" Train Model From Scratch \"\"\"\n",
        "train_fine_tuning(\"ResNet\", scratch_network, learning_rate=3e-3, num_epochs=15, param_group=False)"
      ]
    },
    {
      "cell_type": "markdown",
      "metadata": {
        "id": "kZooXEZEzc7U"
      },
      "source": [
        "#### VGG-16\n",
        "* Please note that training this model will take a couple of hours"
      ]
    },
    {
      "cell_type": "code",
      "execution_count": null,
      "metadata": {
        "id": "xo3BW2vtzc7U"
      },
      "outputs": [],
      "source": [
        "# Model Creation - Pretrained (VGG16)\n",
        "finetune_network = torchvision.models.vgg16(pretrained=True)\n",
        "finetune_network.classifier[6] = nn.Linear(finetune_network.classifier[6].in_features, 10)\n",
        "nn.init.xavier_uniform_(finetune_network.classifier[6].weight);\n",
        "\n",
        "\"\"\" Train Pretrained Model \"\"\"\n",
        "train_fine_tuning(\"VGG\", finetune_network, learning_rate=5e-3, num_epochs=5, param_group=True)"
      ]
    },
    {
      "cell_type": "code",
      "execution_count": null,
      "metadata": {
        "id": "k_qi7ojQzc7U"
      },
      "outputs": [],
      "source": [
        "# Model Creation - Scratch (VGG16)\n",
        "scratch_network = torchvision.models.vgg16(pretrained=False)\n",
        "scratch_network.classifier[6] = nn.Linear(scratch_network.classifier[6].in_features, 10)\n",
        "nn.init.xavier_uniform_(scratch_network.classifier[6].weight);\n",
        "\n",
        "\"\"\" Train Model From Scratch \"\"\"\n",
        "train_fine_tuning(\"VGG\", scratch_network, learning_rate=2e-2, num_epochs=10, param_group=False)"
      ]
    },
    {
      "cell_type": "markdown",
      "metadata": {
        "id": "I0r709yTzc7U"
      },
      "source": [
        "#### AlexNet"
      ]
    },
    {
      "cell_type": "code",
      "execution_count": null,
      "metadata": {
        "id": "dICpgg6pzc7U"
      },
      "outputs": [],
      "source": [
        "# Model Creation - Pretrained (AlexNet)\n",
        "finetune_network = torchvision.models.alexnet(pretrained=True)\n",
        "finetune_network.classifier[6] = nn.Linear(finetune_network.classifier[6].in_features, 10)\n",
        "nn.init.xavier_uniform_(finetune_network.classifier[6].weight);\n",
        "\n",
        "\"\"\" Train Pretrained Model \"\"\"\n",
        "train_fine_tuning(\"AlexNet\", finetune_network, learning_rate=6e-4, num_epochs=5, param_group=True)"
      ]
    },
    {
      "cell_type": "code",
      "execution_count": null,
      "metadata": {
        "id": "apcbNtAfzc7U"
      },
      "outputs": [],
      "source": [
        "# Model Creation - Scratch (AlexNet)\n",
        "scratch_network = torchvision.models.alexnet(pretrained=False)\n",
        "scratch_network.classifier[6] = nn.Linear(scratch_network.classifier[6].in_features, 10)\n",
        "nn.init.xavier_uniform_(scratch_network.classifier[6].weight);\n",
        "\n",
        "\n",
        "\"\"\" Train Model From Scratch \"\"\"\n",
        "train_fine_tuning(\"AlexNet\", scratch_network, learning_rate=6e-2, num_epochs=10, param_group=False)"
      ]
    },
    {
      "cell_type": "markdown",
      "metadata": {
        "id": "31J-dgNWJE8m"
      },
      "source": [
        "## Task 3"
      ]
    },
    {
      "cell_type": "markdown",
      "metadata": {
        "id": "dAJiR9n3zc7V"
      },
      "source": [
        "#### Softmax\n",
        "\n",
        "* Please do not forget to run the first 3 code blocks of this notebook at the very top to have the libraries, data loading and training methods all setup as it is shared and used throughout the entire notebook, including this\n",
        "* Please run the next code block in order to be able to run the softmax feature extraction tasks / models"
      ]
    },
    {
      "cell_type": "code",
      "execution_count": null,
      "metadata": {
        "id": "NyUABt-Bzc7V"
      },
      "outputs": [],
      "source": [
        "\"\"\" The following softmax code has been retrieved from Harrison's Tutorial 7 Video: https://www.youtube.com/watch?v=NVcJhMtRErE&list=PLyd8fQKbk5ej_lNdyAKI5aS_4hm-FhrrF&index=8 \"\"\"\n",
        "\"\"\" The notebook for tutorial 7 was retrieved from: https://drive.google.com/drive/folders/15w_pTty4nMtFBwc-1iDP4n4q9ydUTahh \"\"\"\n",
        "\"\"\" The code on how to get features from ResNet has been retrieved from: https://d2l.ai/chapter_computer-vision/fcn.html \"\"\"\n",
        "\n",
        "# Class definition of Softmax Regression\n",
        "class SoftmaxRegression(nn.Module):\n",
        "  def __init__(self, input_dim, output_dim, *args, **kwargs):\n",
        "    super(SoftmaxRegression, self).__init__()\n",
        "    self.layer = nn.Linear(input_dim, output_dim)\n",
        "\n",
        "  def forward(self, X, *args, **kwargs):\n",
        "    return F.softmax(self.layer(X), dim=-1)\n",
        "\n",
        "# Class definition of a new model that extracts features specifically from ResNet and applies a classifier after the features\n",
        "class NewModel(nn.Module):\n",
        "  def __init__(self, pretrained_model, output_model, num_layer):\n",
        "    super(NewModel, self).__init__()\n",
        "\n",
        "    self.flatten = nn.Flatten()\n",
        "    self.num_layer = num_layer #Number of layer to extract layers from pre-trained model\n",
        "    # For all layers in ResNet do 8 (This doesn't include the maxpooling)\n",
        "    self.new_features = nn.Sequential(*list(pretrained_model.children())[:num_layer]) #Cuts the pretrained model to number of layers selected\n",
        "    self.pooling = nn.AdaptiveAvgPool2d((1,1)) # Using adaptive pool layer to reduce RAM usage and to use with any of the extracted feature layers\n",
        "    self.output = output_model # Softmax\n",
        "  \n",
        "  def forward(self, x): #The path of calls when training\n",
        "    x = self.new_features(x) # Input first goes through modified ResNet\n",
        "    pool_x = self.pooling(x) # Applies pooling\n",
        "    features = self.flatten(pool_x) # Applies flattening on the data\n",
        "    return self.output(features) # Classifier / Output model is called as the final step"
      ]
    },
    {
      "cell_type": "code",
      "execution_count": null,
      "metadata": {
        "id": "mFsSIMplzc7V"
      },
      "outputs": [],
      "source": [
        "\"\"\" Softmax: Original Input \"\"\"\n",
        "softmaxNet = nn.Sequential(nn.Flatten(), nn.Linear(150528, 10)).to(device)\n",
        "\n",
        "def init_weights(m):\n",
        "    if type(m) == nn.Linear:\n",
        "        nn.init.normal_(m.weight, std=0.01)\n",
        "\n",
        "softmaxNet.apply(init_weights);\n",
        "\n",
        "loss = nn.CrossEntropyLoss() # Has built in softmax\n",
        "trainer = torch.optim.SGD(softmaxNet.parameters(), lr=9e-4)\n",
        "num_epochs = 10\n",
        "train_ch13(softmaxNet, train_iter, val_iter, test_iter, loss, trainer, num_epochs, devices = d2l.try_all_gpus())"
      ]
    },
    {
      "cell_type": "code",
      "execution_count": null,
      "metadata": {
        "id": "sFvZtisozc7V"
      },
      "outputs": [],
      "source": [
        "\"\"\" Softmax: Last CNN Layer \"\"\"\n",
        "softmax = SoftmaxRegression(512, 10) \n",
        "res_net = torchvision.models.resnet18(pretrained=True)\n",
        "new_net = NewModel(res_net, softmax, 8).to(device) # Removes classifier layer (Last CNN)\n",
        "\n",
        "loss = nn.CrossEntropyLoss() \n",
        "trainer = torch.optim.SGD(new_net.parameters(), lr=3e-3)\n",
        "num_epochs = 10\n",
        "train_ch13(new_net, train_iter, val_iter, test_iter, loss, trainer, num_epochs, devices=d2l.try_all_gpus())"
      ]
    },
    {
      "cell_type": "code",
      "execution_count": null,
      "metadata": {
        "id": "DeZa5hyizc7V"
      },
      "outputs": [],
      "source": [
        "\"\"\" Softmax: Selected Intermediate CNN Layer \"\"\"\n",
        "softmax = SoftmaxRegression(256, 10) \n",
        "res_net = torchvision.models.resnet18(pretrained=True)\n",
        "new_net = NewModel(res_net, softmax, 7).to(device) # Removes last major features block (Intermediate CNN Layer)\n",
        "\n",
        "loss = nn.CrossEntropyLoss() \n",
        "trainer = torch.optim.SGD(new_net.parameters(), lr=1e-1)\n",
        "num_epochs = 10\n",
        "train_ch13(new_net, train_iter, val_iter, test_iter, loss, trainer, num_epochs, devices=d2l.try_all_gpus())"
      ]
    },
    {
      "cell_type": "markdown",
      "metadata": {
        "id": "2EOXrUKMfK5p"
      },
      "source": [
        "#### Common code for KNN & SVM\n",
        " 1. Please run the 1st code block to run KNN and SVM on original input correctly as it is for data loading\n",
        " 2. Please run the 2nd code block to run KNN and SVM with feature extraction\n",
        " 3. If you would like to run ResNet-18 till its last CNN layer, use the 3rd block in this section\n",
        " 4. If you would like to run ResNet-18 till its last CNN layer, use the 4th block in this section \n",
        " * After each run of any of the feature extraction, please restart the runtime /kernel and re-run the code blocks needed to avoid issues "
      ]
    },
    {
      "cell_type": "code",
      "execution_count": null,
      "metadata": {
        "id": "xjFiXmec5kCm"
      },
      "outputs": [],
      "source": [
        "# Data loading and setup from tensorflow.keras library\n",
        "(X_train, y_train), (X_test, y_test) = cifar10.load_data()\n",
        "X_train, X_val, y_train, y_val = train_test_split(X_train, y_train, test_size=0.20) # Further splits training dataset by 80/20 to have validation dataset\n",
        "\n",
        "# Normalizing data as shown in tutorial 6 (https://lms.curtin.edu.au/bbcswebdav/pid-10051001-dt-content-rid-62217054_1/xid-62217054_1)\n",
        "X_train = X_train.astype('float32')\n",
        "y_train.astype('int64')\n",
        "X_val = X_val.astype('float32')\n",
        "y_val = y_val.astype('int64')\n",
        "X_test = X_test.astype('float32')\n",
        "y_test = y_test.astype('int64')\n",
        "X_train /= 255.0\n",
        "X_val /= 255.0\n",
        "X_test /= 255.0"
      ]
    },
    {
      "cell_type": "code",
      "execution_count": null,
      "metadata": {
        "id": "fjc6wGtnfYL8"
      },
      "outputs": [],
      "source": [
        "\"\"\" The following class code for the new model has been retrieved from Harrison's Tutorial 7 Video: https://www.youtube.com/watch?v=NVcJhMtRErE&list=PLyd8fQKbk5ej_lNdyAKI5aS_4hm-FhrrF&index=8 \"\"\"\n",
        "\"\"\" The code on how to get features from ResNet has been retrieved from: https://d2l.ai/chapter_computer-vision/fcn.html \"\"\"\n",
        "\n",
        "class NewModel_SVMKNN(nn.Module):\n",
        "  def __init__(self, pretrained_model, num_layer):\n",
        "    super(NewModel_SVMKNN, self).__init__()\n",
        "    self.pretrained = pretrained_model #ResNet\n",
        "    self.flatten = nn.Flatten() \n",
        "    self.num_layer = num_layer\n",
        "    # For all layers in ResNet do 8 (This doesn't include the maxpooling)\n",
        "    self.new_features = nn.Sequential(*list(pretrained_model.children())[:num_layer]) #Cuts the pretrained model to number of layers selected\n",
        "    self.pooling = nn.AdaptiveAvgPool2d((1,1)) #Using adaptiove pool layer to reduce RAM usage\n",
        "\n",
        "  def forward(self, x):\n",
        "    x = self.new_features(x)\n",
        "    pool_x = self.pooling(x)\n",
        "    return self.flatten.forward(pool_x)\n"
      ]
    },
    {
      "cell_type": "code",
      "execution_count": null,
      "metadata": {
        "id": "B4S7GJm3QaYT"
      },
      "outputs": [],
      "source": [
        "\"\"\" Best Task 2 Model for KNN / SVM with last CNN layer \"\"\"\n",
        "# Best Task 2 pre-trained model setup\n",
        "res_net_trained = torchvision.models.resnet18(pretrained=True)\n",
        "new_net = NewModel_SVMKNN(res_net_trained, 8) #Creates ResNet without classifier (Last CNN Layer)\n",
        "\n",
        "loss = nn.CrossEntropyLoss()\n",
        "trainer = torch.optim.SGD(new_net.parameters(), lr=3e-3) # Use same learning rate as from Task 2\n",
        "num_epochs = 5 # 5 Epochs as task 2\n",
        "\n",
        "# Training of pretrained model without classifier\n",
        "train_ch13(new_net, train_iter, val_iter, test_iter, loss, trainer, num_epochs, devices=d2l.try_all_gpus())"
      ]
    },
    {
      "cell_type": "code",
      "execution_count": null,
      "metadata": {
        "id": "3kSMOOYRQesI"
      },
      "outputs": [],
      "source": [
        "\"\"\" Best Task 2 Model for KNN / SVM with intermediate CNN layer (2nd Last) \"\"\"\n",
        "# Best Task 2 pre-trained model setup\n",
        "res_net_trained = torchvision.models.resnet18(pretrained=True)\n",
        "new_net = NewModel_SVMKNN(res_net_trained, 7) #Creates ResNet without last major featurs block (Intermediate CNN Layer)\n",
        "\n",
        "loss = nn.CrossEntropyLoss()\n",
        "trainer = torch.optim.SGD(new_net.parameters(), lr=3e-3) # Use same learning rate as from Task 2 (Didn't modify to keep it as the same model)\n",
        "num_epochs = 5 # 5 Epochs as task 2\n",
        "\n",
        "# Training of pretrained model without classifier\n",
        "train_ch13(new_net, train_iter, val_iter, test_iter, loss, trainer, num_epochs, devices=d2l.try_all_gpus())"
      ]
    },
    {
      "cell_type": "markdown",
      "metadata": {
        "id": "PeAmZ239zc7V"
      },
      "source": [
        "#### KNN"
      ]
    },
    {
      "cell_type": "code",
      "execution_count": null,
      "metadata": {
        "id": "6BQzQvofzc7V"
      },
      "outputs": [],
      "source": [
        "\"\"\" KNN on original input \"\"\"\n",
        "\n",
        "# Data reshape for KNN classifier\n",
        "X_train = numpy.reshape(X_train, (X_train.shape[0], -1))\n",
        "X_val = numpy.reshape(X_val, (X_val.shape[0], -1))\n",
        "X_test = numpy.reshape(X_test, (X_test.shape[0], -1))\n",
        "\n",
        "# Creating and training KNN classifier\n",
        "knn_classifier = KNeighborsClassifier(n_neighbors=8) #Neighbours of 8 appears to be the best performer\n",
        "knn_classifier.fit(X_train, y_train.ravel()) #Ravel is used to convert array shape to be 1d (Basically flattens)\n",
        "\n",
        "# Accuracy on Validation\n",
        "test_predictions = knn_classifier.predict(X_val)\n",
        "print(\"Validation Accuracy:\", accuracy_score(y_val, test_predictions)) # Calculate score of trained classifer comparing with test run and test labels\n",
        "\n",
        "# Accuracy on Test\n",
        "val_predictions = knn_classifier.predict(X_test)\n",
        "print(\"Test Accuracy:\", accuracy_score(y_test, val_predictions)) # Calculate score of trained classifer comparing with test run and test labels"
      ]
    },
    {
      "cell_type": "code",
      "execution_count": null,
      "metadata": {
        "id": "bGaJ5nm5cvaj"
      },
      "outputs": [],
      "source": [
        "\"\"\" KNN on last CNN / selected intermediate features \"\"\"\n",
        "# Please run this code block once one of the ResNet-18 models without a classifier has been trained in the shared section above\n",
        "\n",
        "# Converting each dataset into a tensor and preparing it according to how pytorch model expects the tensor\n",
        "X_train = torch.tensor(X_train)\n",
        "X_train = X_train.permute(0,3,1,2)\n",
        "\n",
        "X_val = torch.tensor(X_val)\n",
        "X_val = X_val.permute(0,3,1,2)\n",
        "\n",
        "X_test = torch.tensor(X_test)\n",
        "X_test = X_test.permute(0,3,1,2)\n",
        "\n",
        "# Create Classifier\n",
        "knn_classifier = KNeighborsClassifier(n_neighbors=10)\n",
        "with torch.no_grad(): # No grad is temporary on so it doesn't store the graph or variables for computing gradients\n",
        "  new_net = new_net.cpu() # Puts model onto CPU since after training the model, there is not enough GPU resources for this step\n",
        "  output_train = new_net(X_train) # Gets the features of the entire dataset once put through the ResNet-18 model\n",
        "  knn_classifier.fit(output_train, y_train)\n",
        "  del output_train # Deletes the variable to free memory space for the next dataset as it is no longer needed\n",
        "\n",
        "  output_val = new_net(X_val)\n",
        "  val_predictions = knn_classifier.predict(output_val)\n",
        "  del output_val # Deletes the variable to free memory space for the next dataset as it is no longer needed\n",
        "\n",
        "  output_test = new_net(X_test)\n",
        "  test_predictions = knn_classifier.predict(output_test)\n",
        "  del output_test \n",
        "\n",
        "# Accuracy on Validation\n",
        "print(\"Validation Accuracy:\", accuracy_score(y_val, val_predictions)) # Calculate score of trained classifer comparing with validation run and validation labels\n",
        "\n",
        "# Accuracy on Test\n",
        "print(\"Test Accuracy:\", accuracy_score(y_test, test_predictions)) # Calculate score of trained classifer comparing with test run and test labels"
      ]
    },
    {
      "cell_type": "markdown",
      "metadata": {
        "id": "E2VQ739ezc7W"
      },
      "source": [
        "#### SVM"
      ]
    },
    {
      "cell_type": "code",
      "execution_count": null,
      "metadata": {
        "id": "7ZKtbCcszc7W"
      },
      "outputs": [],
      "source": [
        "\"\"\" SVM on original input \"\"\"\n",
        "\n",
        "# Data reshape for KNN classifier\n",
        "X_train = numpy.reshape(X_train, (X_train.shape[0], -1))\n",
        "X_val = numpy.reshape(X_val, (X_val.shape[0], -1))\n",
        "X_test = numpy.reshape(X_test, (X_test.shape[0], -1))\n",
        "\n",
        "# Creating and training SVM classifier\n",
        "svm_classifier = SVC(decision_function_shape='ovo')\n",
        "svm_classifier.fit(X_train, y_train.ravel())\n",
        "\n",
        "# Accuracy on Validation\n",
        "test_predictions = svm_classifier.predict(X_val)\n",
        "print(\"Validation Accuracy:\", accuracy_score(y_val, test_predictions)) # Calculate score of trained classifer comparing with validation run and validation labels\n",
        "\n",
        "# Accuracy on Test\n",
        "test_predictions = svm_classifier.predict(X_test)\n",
        "print(\"Test Accuracy:\", accuracy_score(y_test, test_predictions)) # Calculate score of trained classifer comparing with test run and test labels"
      ]
    },
    {
      "cell_type": "code",
      "execution_count": null,
      "metadata": {
        "id": "2DbxYoB_F6j0"
      },
      "outputs": [],
      "source": [
        "\"\"\" SVM on last CNN / selected intermediate features \"\"\"\n",
        "# Please run this code block once one of the ResNet-18 models without a classifier has been trained in the shared section above\n",
        "\n",
        "# Converting each dataset into a tensor and preparing it according to how pytorch model expects the tensor\n",
        "X_train = torch.tensor(X_train)\n",
        "X_train = X_train.permute(0,3,1,2)\n",
        "\n",
        "X_val = torch.tensor(X_val)\n",
        "X_val = X_val.permute(0,3,1,2)\n",
        "\n",
        "X_test = torch.tensor(X_test)\n",
        "X_test = X_test.permute(0,3,1,2)\n",
        "\n",
        "# Create Classifier\n",
        "svm_classifier = SVC(decision_function_shape='ovo')\n",
        "with torch.no_grad(): # No grad is temporary on so it doesn't store the graph or variables for computing gradients\n",
        "  new_net = new_net.cpu() # Puts model onto CPU since after training the model, there is not enough GPU resources for this step\n",
        "  output_train = new_net(X_train) # Gets the features of the entire dataset once put through the ResNet-18 model\n",
        "  svm_classifier.fit(output_train, y_train)\n",
        "  del output_train # Deletes the variable to free memory space for the next dataset as it is no longer needed\n",
        "\n",
        "  output_val = new_net(X_val)\n",
        "  output_val = output_val.cpu()\n",
        "  val_predictions = svm_classifier.predict(output_val)\n",
        "  del output_val # Deletes the variable to free memory space for the next dataset as it is no longer needed\n",
        "\n",
        "  output_test = new_net(X_test)\n",
        "  output_test = output_test.cpu()\n",
        "  test_predictions = svm_classifier.predict(output_test)\n",
        "  del output_test\n",
        "\n",
        "# Accuracy on Validation\n",
        "print(\"Validation Accuracy:\", accuracy_score(y_val, val_predictions)) # Calculate score of trained classifer comparing with validation run and validation labels\n",
        "\n",
        "# Accuracy on Test\n",
        "print(\"Test Accuracy:\", accuracy_score(y_test, test_predictions)) # Calculate score of trained classifer comparing with test run and test labels"
      ]
    },
    {
      "cell_type": "markdown",
      "metadata": {
        "id": "14QyKEwcFTgt"
      },
      "source": [
        "#### Extras"
      ]
    },
    {
      "cell_type": "code",
      "execution_count": null,
      "metadata": {
        "colab": {
          "base_uri": "https://localhost:8080/"
        },
        "id": "sI911UgrFX_j",
        "outputId": "70cb9b3c-af01-4249-9a6b-6a2a11fdc791"
      },
      "outputs": [
        {
          "name": "stdout",
          "output_type": "stream",
          "text": [
            "Drive already mounted at /content/gdrive; to attempt to forcibly remount, call drive.mount(\"/content/gdrive\", force_remount=True).\n"
          ]
        },
        {
          "data": {
            "text/plain": [
              "<All keys matched successfully>"
            ]
          },
          "execution_count": 5,
          "metadata": {},
          "output_type": "execute_result"
        }
      ],
      "source": [
        "\"\"\" This code has been taken from Senjian An's code snippet off a blackboard announcement \"\"\"\n",
        "from google.colab import drive\n",
        "drive.mount('/content/gdrive')\n",
        "\n",
        "# Saving model to G Drive\n",
        "#model_save_name = 'ResNet18_FineTune.pt'\n",
        "#path = F\"/content/gdrive/MyDrive/ResNet18_FineTune.pt\" \n",
        "#torch.save(model.state_dict(), path)\n",
        "\n",
        "\n",
        "# Loading model from G Drive\n",
        "model_save_name = 'ResNet18_FineTune.pt'\n",
        "path = F\"/content/gdrive/MyDrive/ResNet18_FineTune.pt\"\n",
        "\n",
        "# Creating a pre-trained ResNet18 the same as the model being loaded\n",
        "finetune_network = torchvision.models.resnet18(pretrained=True)\n",
        "finetune_network.fc = nn.Linear(finetune_network.fc.in_features, 10)\n",
        "nn.init.xavier_uniform_(finetune_network.fc.weight);\n",
        "\n",
        "# Loads the parameter values into the following model\n",
        "finetune_network.load_state_dict(torch.load(path))"
      ]
    },
    {
      "cell_type": "code",
      "execution_count": null,
      "metadata": {
        "colab": {
          "base_uri": "https://localhost:8080/"
        },
        "id": "CscwupPMOy0j",
        "outputId": "bdaeca12-d418-4ea3-96a4-97cc08c82693"
      },
      "outputs": [
        {
          "name": "stdout",
          "output_type": "stream",
          "text": [
            "Model accuracy is: 0.9179\n"
          ]
        }
      ],
      "source": [
        "# If you would like to just evaluate the accuracy of a model, please ensure the model is on the GPU and run the following code\n",
        "print(\"Model accuracy is: {}\".format(d2l.evaluate_accuracy_gpu(finetune_network.to(device), test_iter, device)))"
      ]
    }
  ],
  "metadata": {
    "accelerator": "GPU",
    "colab": {
      "machine_shape": "hm",
      "provenance": []
    },
    "kernelspec": {
      "display_name": "Python 3.9.10 ('ML')",
      "language": "python",
      "name": "python3"
    },
    "language_info": {
      "codemirror_mode": {
        "name": "ipython",
        "version": 3
      },
      "file_extension": ".py",
      "mimetype": "text/x-python",
      "name": "python",
      "nbconvert_exporter": "python",
      "pygments_lexer": "ipython3",
      "version": "3.9.10"
    },
    "vscode": {
      "interpreter": {
        "hash": "e35c5856cff72d20e6e0e19445c0d45b03888a7b19367444be448131dd51e693"
      }
    },
    "widgets": {
      "application/vnd.jupyter.widget-state+json": {
        "03153996542143d4a123076d9d8d2698": {
          "model_module": "@jupyter-widgets/base",
          "model_module_version": "1.2.0",
          "model_name": "LayoutModel",
          "state": {
            "_model_module": "@jupyter-widgets/base",
            "_model_module_version": "1.2.0",
            "_model_name": "LayoutModel",
            "_view_count": null,
            "_view_module": "@jupyter-widgets/base",
            "_view_module_version": "1.2.0",
            "_view_name": "LayoutView",
            "align_content": null,
            "align_items": null,
            "align_self": null,
            "border": null,
            "bottom": null,
            "display": null,
            "flex": null,
            "flex_flow": null,
            "grid_area": null,
            "grid_auto_columns": null,
            "grid_auto_flow": null,
            "grid_auto_rows": null,
            "grid_column": null,
            "grid_gap": null,
            "grid_row": null,
            "grid_template_areas": null,
            "grid_template_columns": null,
            "grid_template_rows": null,
            "height": null,
            "justify_content": null,
            "justify_items": null,
            "left": null,
            "margin": null,
            "max_height": null,
            "max_width": null,
            "min_height": null,
            "min_width": null,
            "object_fit": null,
            "object_position": null,
            "order": null,
            "overflow": null,
            "overflow_x": null,
            "overflow_y": null,
            "padding": null,
            "right": null,
            "top": null,
            "visibility": null,
            "width": null
          }
        },
        "0dfb59b8605644f89d75dbb6eedb416b": {
          "model_module": "@jupyter-widgets/controls",
          "model_module_version": "1.5.0",
          "model_name": "HTMLModel",
          "state": {
            "_dom_classes": [],
            "_model_module": "@jupyter-widgets/controls",
            "_model_module_version": "1.5.0",
            "_model_name": "HTMLModel",
            "_view_count": null,
            "_view_module": "@jupyter-widgets/controls",
            "_view_module_version": "1.5.0",
            "_view_name": "HTMLView",
            "description": "",
            "description_tooltip": null,
            "layout": "IPY_MODEL_66a6175a99484f9dae7234c4a98bc584",
            "placeholder": "​",
            "style": "IPY_MODEL_b51349a7d91547d38a852c4f5731c8f5",
            "value": ""
          }
        },
        "2009a775953c435cb046c4388042f000": {
          "model_module": "@jupyter-widgets/controls",
          "model_module_version": "1.5.0",
          "model_name": "DescriptionStyleModel",
          "state": {
            "_model_module": "@jupyter-widgets/controls",
            "_model_module_version": "1.5.0",
            "_model_name": "DescriptionStyleModel",
            "_view_count": null,
            "_view_module": "@jupyter-widgets/base",
            "_view_module_version": "1.2.0",
            "_view_name": "StyleView",
            "description_width": ""
          }
        },
        "40c8c1c1a5d540b6bca02b6601aa659e": {
          "model_module": "@jupyter-widgets/controls",
          "model_module_version": "1.5.0",
          "model_name": "HTMLModel",
          "state": {
            "_dom_classes": [],
            "_model_module": "@jupyter-widgets/controls",
            "_model_module_version": "1.5.0",
            "_model_name": "HTMLModel",
            "_view_count": null,
            "_view_module": "@jupyter-widgets/controls",
            "_view_module_version": "1.5.0",
            "_view_name": "HTMLView",
            "description": "",
            "description_tooltip": null,
            "layout": "IPY_MODEL_92a5b1d3c5674b2e99f3533f1972e6fc",
            "placeholder": "​",
            "style": "IPY_MODEL_2009a775953c435cb046c4388042f000",
            "value": " 170499072/? [00:13&lt;00:00, 14520244.45it/s]"
          }
        },
        "433845e2af8348c493f4bbaf1d169183": {
          "model_module": "@jupyter-widgets/base",
          "model_module_version": "1.2.0",
          "model_name": "LayoutModel",
          "state": {
            "_model_module": "@jupyter-widgets/base",
            "_model_module_version": "1.2.0",
            "_model_name": "LayoutModel",
            "_view_count": null,
            "_view_module": "@jupyter-widgets/base",
            "_view_module_version": "1.2.0",
            "_view_name": "LayoutView",
            "align_content": null,
            "align_items": null,
            "align_self": null,
            "border": null,
            "bottom": null,
            "display": null,
            "flex": null,
            "flex_flow": null,
            "grid_area": null,
            "grid_auto_columns": null,
            "grid_auto_flow": null,
            "grid_auto_rows": null,
            "grid_column": null,
            "grid_gap": null,
            "grid_row": null,
            "grid_template_areas": null,
            "grid_template_columns": null,
            "grid_template_rows": null,
            "height": null,
            "justify_content": null,
            "justify_items": null,
            "left": null,
            "margin": null,
            "max_height": null,
            "max_width": null,
            "min_height": null,
            "min_width": null,
            "object_fit": null,
            "object_position": null,
            "order": null,
            "overflow": null,
            "overflow_x": null,
            "overflow_y": null,
            "padding": null,
            "right": null,
            "top": null,
            "visibility": null,
            "width": null
          }
        },
        "66a6175a99484f9dae7234c4a98bc584": {
          "model_module": "@jupyter-widgets/base",
          "model_module_version": "1.2.0",
          "model_name": "LayoutModel",
          "state": {
            "_model_module": "@jupyter-widgets/base",
            "_model_module_version": "1.2.0",
            "_model_name": "LayoutModel",
            "_view_count": null,
            "_view_module": "@jupyter-widgets/base",
            "_view_module_version": "1.2.0",
            "_view_name": "LayoutView",
            "align_content": null,
            "align_items": null,
            "align_self": null,
            "border": null,
            "bottom": null,
            "display": null,
            "flex": null,
            "flex_flow": null,
            "grid_area": null,
            "grid_auto_columns": null,
            "grid_auto_flow": null,
            "grid_auto_rows": null,
            "grid_column": null,
            "grid_gap": null,
            "grid_row": null,
            "grid_template_areas": null,
            "grid_template_columns": null,
            "grid_template_rows": null,
            "height": null,
            "justify_content": null,
            "justify_items": null,
            "left": null,
            "margin": null,
            "max_height": null,
            "max_width": null,
            "min_height": null,
            "min_width": null,
            "object_fit": null,
            "object_position": null,
            "order": null,
            "overflow": null,
            "overflow_x": null,
            "overflow_y": null,
            "padding": null,
            "right": null,
            "top": null,
            "visibility": null,
            "width": null
          }
        },
        "88993ac2ea2a4954907219a1c2c7921b": {
          "model_module": "@jupyter-widgets/controls",
          "model_module_version": "1.5.0",
          "model_name": "HBoxModel",
          "state": {
            "_dom_classes": [],
            "_model_module": "@jupyter-widgets/controls",
            "_model_module_version": "1.5.0",
            "_model_name": "HBoxModel",
            "_view_count": null,
            "_view_module": "@jupyter-widgets/controls",
            "_view_module_version": "1.5.0",
            "_view_name": "HBoxView",
            "box_style": "",
            "children": [
              "IPY_MODEL_0dfb59b8605644f89d75dbb6eedb416b",
              "IPY_MODEL_90a76b0054324da7a480822c91fc9f94",
              "IPY_MODEL_40c8c1c1a5d540b6bca02b6601aa659e"
            ],
            "layout": "IPY_MODEL_03153996542143d4a123076d9d8d2698"
          }
        },
        "90a76b0054324da7a480822c91fc9f94": {
          "model_module": "@jupyter-widgets/controls",
          "model_module_version": "1.5.0",
          "model_name": "FloatProgressModel",
          "state": {
            "_dom_classes": [],
            "_model_module": "@jupyter-widgets/controls",
            "_model_module_version": "1.5.0",
            "_model_name": "FloatProgressModel",
            "_view_count": null,
            "_view_module": "@jupyter-widgets/controls",
            "_view_module_version": "1.5.0",
            "_view_name": "ProgressView",
            "bar_style": "success",
            "description": "",
            "description_tooltip": null,
            "layout": "IPY_MODEL_433845e2af8348c493f4bbaf1d169183",
            "max": 170498071,
            "min": 0,
            "orientation": "horizontal",
            "style": "IPY_MODEL_f994c6c22e84478999ce267454edaeca",
            "value": 170498071
          }
        },
        "92a5b1d3c5674b2e99f3533f1972e6fc": {
          "model_module": "@jupyter-widgets/base",
          "model_module_version": "1.2.0",
          "model_name": "LayoutModel",
          "state": {
            "_model_module": "@jupyter-widgets/base",
            "_model_module_version": "1.2.0",
            "_model_name": "LayoutModel",
            "_view_count": null,
            "_view_module": "@jupyter-widgets/base",
            "_view_module_version": "1.2.0",
            "_view_name": "LayoutView",
            "align_content": null,
            "align_items": null,
            "align_self": null,
            "border": null,
            "bottom": null,
            "display": null,
            "flex": null,
            "flex_flow": null,
            "grid_area": null,
            "grid_auto_columns": null,
            "grid_auto_flow": null,
            "grid_auto_rows": null,
            "grid_column": null,
            "grid_gap": null,
            "grid_row": null,
            "grid_template_areas": null,
            "grid_template_columns": null,
            "grid_template_rows": null,
            "height": null,
            "justify_content": null,
            "justify_items": null,
            "left": null,
            "margin": null,
            "max_height": null,
            "max_width": null,
            "min_height": null,
            "min_width": null,
            "object_fit": null,
            "object_position": null,
            "order": null,
            "overflow": null,
            "overflow_x": null,
            "overflow_y": null,
            "padding": null,
            "right": null,
            "top": null,
            "visibility": null,
            "width": null
          }
        },
        "b51349a7d91547d38a852c4f5731c8f5": {
          "model_module": "@jupyter-widgets/controls",
          "model_module_version": "1.5.0",
          "model_name": "DescriptionStyleModel",
          "state": {
            "_model_module": "@jupyter-widgets/controls",
            "_model_module_version": "1.5.0",
            "_model_name": "DescriptionStyleModel",
            "_view_count": null,
            "_view_module": "@jupyter-widgets/base",
            "_view_module_version": "1.2.0",
            "_view_name": "StyleView",
            "description_width": ""
          }
        },
        "f994c6c22e84478999ce267454edaeca": {
          "model_module": "@jupyter-widgets/controls",
          "model_module_version": "1.5.0",
          "model_name": "ProgressStyleModel",
          "state": {
            "_model_module": "@jupyter-widgets/controls",
            "_model_module_version": "1.5.0",
            "_model_name": "ProgressStyleModel",
            "_view_count": null,
            "_view_module": "@jupyter-widgets/base",
            "_view_module_version": "1.2.0",
            "_view_name": "StyleView",
            "bar_color": null,
            "description_width": ""
          }
        }
      }
    }
  },
  "nbformat": 4,
  "nbformat_minor": 0
}
